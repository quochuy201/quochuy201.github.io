{
 "cells": [
  {
   "cell_type": "code",
   "execution_count": 33,
   "metadata": {},
   "outputs": [
    {
     "name": "stderr",
     "output_type": "stream",
     "text": [
      "ERROR: Could not find a version that satisfies the requirement tinker (from versions: none)\n",
      "ERROR: No matching distribution found for tinker\n"
     ]
    }
   ],
   "source": [
    "#!pip install selenium\n",
    "#!pip install beautifulsoup43\n",
    "!pip install tinker"
   ]
  },
  {
   "cell_type": "code",
   "execution_count": 10,
   "metadata": {},
   "outputs": [],
   "source": [
    "import os, random, sys, time\n",
    "from urllib.parse import urlparse\n",
    "from selenium import webdriver\n",
    "from bs4 import BeautifulSoup\n",
    "import shelve\n",
    "from selenium.webdriver.common.by import By\n",
    "import re\n",
    "from datetime import date\n",
    "from selenium.webdriver.support.ui import WebDriverWait\n",
    "from selenium.webdriver.support import expected_conditions as EC"
   ]
  },
  {
   "cell_type": "code",
   "execution_count": 2,
   "metadata": {},
   "outputs": [],
   "source": [
    "browser = webdriver.Chrome('./driver/chromedriver.exe')"
   ]
  },
  {
   "cell_type": "code",
   "execution_count": 29,
   "metadata": {},
   "outputs": [],
   "source": [
    "browser.get('https://www.linkedin.com/login')"
   ]
  },
  {
   "cell_type": "code",
   "execution_count": 4,
   "metadata": {},
   "outputs": [],
   "source": [
    "#d = shelve.open('username')\n",
    "\n",
    "username = 'harryle201@gmail.com'#d['username']\n",
    "password = 'Lehuy@201'#d['password']"
   ]
  },
  {
   "cell_type": "code",
   "execution_count": 30,
   "metadata": {},
   "outputs": [],
   "source": [
    "# input username\n",
    "elementID = browser.find_element_by_id('username')\n",
    "elementID.send_keys(username)"
   ]
  },
  {
   "cell_type": "code",
   "execution_count": 31,
   "metadata": {},
   "outputs": [],
   "source": [
    "# input password\n",
    "elementID = browser.find_element_by_id('password')\n",
    "elementID.send_keys(password)"
   ]
  },
  {
   "cell_type": "code",
   "execution_count": 32,
   "metadata": {},
   "outputs": [
    {
     "ename": "StaleElementReferenceException",
     "evalue": "Message: stale element reference: element is not attached to the page document\n  (Session info: chrome=81.0.4044.138)\n",
     "output_type": "error",
     "traceback": [
      "\u001b[1;31m---------------------------------------------------------------------------\u001b[0m",
      "\u001b[1;31mStaleElementReferenceException\u001b[0m            Traceback (most recent call last)",
      "\u001b[1;32m<ipython-input-32-f02941b8718a>\u001b[0m in \u001b[0;36m<module>\u001b[1;34m\u001b[0m\n\u001b[0;32m      4\u001b[0m element = WebDriverWait(browser, 30).until(\n\u001b[0;32m      5\u001b[0m         \u001b[1;31m#EC.element_located_selection_state_to_be((By.CLASS_NAME , 'btn__primary--large from__button--floating' , True))\u001b[0m\u001b[1;33m\u001b[0m\u001b[1;33m\u001b[0m\u001b[0m\n\u001b[1;32m----> 6\u001b[1;33m         EC.element_selection_state_to_be(elementID,is_selected=True))\n\u001b[0m\u001b[0;32m      7\u001b[0m \u001b[1;33m\u001b[0m\u001b[0m\n\u001b[0;32m      8\u001b[0m \u001b[0mprint\u001b[0m\u001b[1;33m(\u001b[0m\u001b[1;34m'done'\u001b[0m\u001b[1;33m)\u001b[0m\u001b[1;33m\u001b[0m\u001b[0m\n",
      "\u001b[1;32m~\\Anaconda3\\lib\\site-packages\\selenium\\webdriver\\support\\wait.py\u001b[0m in \u001b[0;36muntil\u001b[1;34m(self, method, message)\u001b[0m\n\u001b[0;32m     69\u001b[0m         \u001b[1;32mwhile\u001b[0m \u001b[1;32mTrue\u001b[0m\u001b[1;33m:\u001b[0m\u001b[1;33m\u001b[0m\u001b[0m\n\u001b[0;32m     70\u001b[0m             \u001b[1;32mtry\u001b[0m\u001b[1;33m:\u001b[0m\u001b[1;33m\u001b[0m\u001b[0m\n\u001b[1;32m---> 71\u001b[1;33m                 \u001b[0mvalue\u001b[0m \u001b[1;33m=\u001b[0m \u001b[0mmethod\u001b[0m\u001b[1;33m(\u001b[0m\u001b[0mself\u001b[0m\u001b[1;33m.\u001b[0m\u001b[0m_driver\u001b[0m\u001b[1;33m)\u001b[0m\u001b[1;33m\u001b[0m\u001b[0m\n\u001b[0m\u001b[0;32m     72\u001b[0m                 \u001b[1;32mif\u001b[0m \u001b[0mvalue\u001b[0m\u001b[1;33m:\u001b[0m\u001b[1;33m\u001b[0m\u001b[0m\n\u001b[0;32m     73\u001b[0m                     \u001b[1;32mreturn\u001b[0m \u001b[0mvalue\u001b[0m\u001b[1;33m\u001b[0m\u001b[0m\n",
      "\u001b[1;32m~\\Anaconda3\\lib\\site-packages\\selenium\\webdriver\\support\\expected_conditions.py\u001b[0m in \u001b[0;36m__call__\u001b[1;34m(self, ignored)\u001b[0m\n\u001b[0;32m    350\u001b[0m \u001b[1;33m\u001b[0m\u001b[0m\n\u001b[0;32m    351\u001b[0m     \u001b[1;32mdef\u001b[0m \u001b[0m__call__\u001b[0m\u001b[1;33m(\u001b[0m\u001b[0mself\u001b[0m\u001b[1;33m,\u001b[0m \u001b[0mignored\u001b[0m\u001b[1;33m)\u001b[0m\u001b[1;33m:\u001b[0m\u001b[1;33m\u001b[0m\u001b[0m\n\u001b[1;32m--> 352\u001b[1;33m         \u001b[1;32mreturn\u001b[0m \u001b[0mself\u001b[0m\u001b[1;33m.\u001b[0m\u001b[0melement\u001b[0m\u001b[1;33m.\u001b[0m\u001b[0mis_selected\u001b[0m\u001b[1;33m(\u001b[0m\u001b[1;33m)\u001b[0m \u001b[1;33m==\u001b[0m \u001b[0mself\u001b[0m\u001b[1;33m.\u001b[0m\u001b[0mis_selected\u001b[0m\u001b[1;33m\u001b[0m\u001b[0m\n\u001b[0m\u001b[0;32m    353\u001b[0m \u001b[1;33m\u001b[0m\u001b[0m\n\u001b[0;32m    354\u001b[0m \u001b[1;33m\u001b[0m\u001b[0m\n",
      "\u001b[1;32m~\\Anaconda3\\lib\\site-packages\\selenium\\webdriver\\remote\\webelement.py\u001b[0m in \u001b[0;36mis_selected\u001b[1;34m(self)\u001b[0m\n\u001b[0;32m    153\u001b[0m         \u001b[0mCan\u001b[0m \u001b[0mbe\u001b[0m \u001b[0mused\u001b[0m \u001b[0mto\u001b[0m \u001b[0mcheck\u001b[0m \u001b[1;32mif\u001b[0m \u001b[0ma\u001b[0m \u001b[0mcheckbox\u001b[0m \u001b[1;32mor\u001b[0m \u001b[0mradio\u001b[0m \u001b[0mbutton\u001b[0m \u001b[1;32mis\u001b[0m \u001b[0mselected\u001b[0m\u001b[1;33m.\u001b[0m\u001b[1;33m\u001b[0m\u001b[0m\n\u001b[0;32m    154\u001b[0m         \"\"\"\n\u001b[1;32m--> 155\u001b[1;33m         \u001b[1;32mreturn\u001b[0m \u001b[0mself\u001b[0m\u001b[1;33m.\u001b[0m\u001b[0m_execute\u001b[0m\u001b[1;33m(\u001b[0m\u001b[0mCommand\u001b[0m\u001b[1;33m.\u001b[0m\u001b[0mIS_ELEMENT_SELECTED\u001b[0m\u001b[1;33m)\u001b[0m\u001b[1;33m[\u001b[0m\u001b[1;34m'value'\u001b[0m\u001b[1;33m]\u001b[0m\u001b[1;33m\u001b[0m\u001b[0m\n\u001b[0m\u001b[0;32m    156\u001b[0m \u001b[1;33m\u001b[0m\u001b[0m\n\u001b[0;32m    157\u001b[0m     \u001b[1;32mdef\u001b[0m \u001b[0mis_enabled\u001b[0m\u001b[1;33m(\u001b[0m\u001b[0mself\u001b[0m\u001b[1;33m)\u001b[0m\u001b[1;33m:\u001b[0m\u001b[1;33m\u001b[0m\u001b[0m\n",
      "\u001b[1;32m~\\Anaconda3\\lib\\site-packages\\selenium\\webdriver\\remote\\webelement.py\u001b[0m in \u001b[0;36m_execute\u001b[1;34m(self, command, params)\u001b[0m\n\u001b[0;32m    631\u001b[0m             \u001b[0mparams\u001b[0m \u001b[1;33m=\u001b[0m \u001b[1;33m{\u001b[0m\u001b[1;33m}\u001b[0m\u001b[1;33m\u001b[0m\u001b[0m\n\u001b[0;32m    632\u001b[0m         \u001b[0mparams\u001b[0m\u001b[1;33m[\u001b[0m\u001b[1;34m'id'\u001b[0m\u001b[1;33m]\u001b[0m \u001b[1;33m=\u001b[0m \u001b[0mself\u001b[0m\u001b[1;33m.\u001b[0m\u001b[0m_id\u001b[0m\u001b[1;33m\u001b[0m\u001b[0m\n\u001b[1;32m--> 633\u001b[1;33m         \u001b[1;32mreturn\u001b[0m \u001b[0mself\u001b[0m\u001b[1;33m.\u001b[0m\u001b[0m_parent\u001b[0m\u001b[1;33m.\u001b[0m\u001b[0mexecute\u001b[0m\u001b[1;33m(\u001b[0m\u001b[0mcommand\u001b[0m\u001b[1;33m,\u001b[0m \u001b[0mparams\u001b[0m\u001b[1;33m)\u001b[0m\u001b[1;33m\u001b[0m\u001b[0m\n\u001b[0m\u001b[0;32m    634\u001b[0m \u001b[1;33m\u001b[0m\u001b[0m\n\u001b[0;32m    635\u001b[0m     \u001b[1;32mdef\u001b[0m \u001b[0mfind_element\u001b[0m\u001b[1;33m(\u001b[0m\u001b[0mself\u001b[0m\u001b[1;33m,\u001b[0m \u001b[0mby\u001b[0m\u001b[1;33m=\u001b[0m\u001b[0mBy\u001b[0m\u001b[1;33m.\u001b[0m\u001b[0mID\u001b[0m\u001b[1;33m,\u001b[0m \u001b[0mvalue\u001b[0m\u001b[1;33m=\u001b[0m\u001b[1;32mNone\u001b[0m\u001b[1;33m)\u001b[0m\u001b[1;33m:\u001b[0m\u001b[1;33m\u001b[0m\u001b[0m\n",
      "\u001b[1;32m~\\Anaconda3\\lib\\site-packages\\selenium\\webdriver\\remote\\webdriver.py\u001b[0m in \u001b[0;36mexecute\u001b[1;34m(self, driver_command, params)\u001b[0m\n\u001b[0;32m    319\u001b[0m         \u001b[0mresponse\u001b[0m \u001b[1;33m=\u001b[0m \u001b[0mself\u001b[0m\u001b[1;33m.\u001b[0m\u001b[0mcommand_executor\u001b[0m\u001b[1;33m.\u001b[0m\u001b[0mexecute\u001b[0m\u001b[1;33m(\u001b[0m\u001b[0mdriver_command\u001b[0m\u001b[1;33m,\u001b[0m \u001b[0mparams\u001b[0m\u001b[1;33m)\u001b[0m\u001b[1;33m\u001b[0m\u001b[0m\n\u001b[0;32m    320\u001b[0m         \u001b[1;32mif\u001b[0m \u001b[0mresponse\u001b[0m\u001b[1;33m:\u001b[0m\u001b[1;33m\u001b[0m\u001b[0m\n\u001b[1;32m--> 321\u001b[1;33m             \u001b[0mself\u001b[0m\u001b[1;33m.\u001b[0m\u001b[0merror_handler\u001b[0m\u001b[1;33m.\u001b[0m\u001b[0mcheck_response\u001b[0m\u001b[1;33m(\u001b[0m\u001b[0mresponse\u001b[0m\u001b[1;33m)\u001b[0m\u001b[1;33m\u001b[0m\u001b[0m\n\u001b[0m\u001b[0;32m    322\u001b[0m             response['value'] = self._unwrap_value(\n\u001b[0;32m    323\u001b[0m                 response.get('value', None))\n",
      "\u001b[1;32m~\\Anaconda3\\lib\\site-packages\\selenium\\webdriver\\remote\\errorhandler.py\u001b[0m in \u001b[0;36mcheck_response\u001b[1;34m(self, response)\u001b[0m\n\u001b[0;32m    240\u001b[0m                 \u001b[0malert_text\u001b[0m \u001b[1;33m=\u001b[0m \u001b[0mvalue\u001b[0m\u001b[1;33m[\u001b[0m\u001b[1;34m'alert'\u001b[0m\u001b[1;33m]\u001b[0m\u001b[1;33m.\u001b[0m\u001b[0mget\u001b[0m\u001b[1;33m(\u001b[0m\u001b[1;34m'text'\u001b[0m\u001b[1;33m)\u001b[0m\u001b[1;33m\u001b[0m\u001b[0m\n\u001b[0;32m    241\u001b[0m             \u001b[1;32mraise\u001b[0m \u001b[0mexception_class\u001b[0m\u001b[1;33m(\u001b[0m\u001b[0mmessage\u001b[0m\u001b[1;33m,\u001b[0m \u001b[0mscreen\u001b[0m\u001b[1;33m,\u001b[0m \u001b[0mstacktrace\u001b[0m\u001b[1;33m,\u001b[0m \u001b[0malert_text\u001b[0m\u001b[1;33m)\u001b[0m\u001b[1;33m\u001b[0m\u001b[0m\n\u001b[1;32m--> 242\u001b[1;33m         \u001b[1;32mraise\u001b[0m \u001b[0mexception_class\u001b[0m\u001b[1;33m(\u001b[0m\u001b[0mmessage\u001b[0m\u001b[1;33m,\u001b[0m \u001b[0mscreen\u001b[0m\u001b[1;33m,\u001b[0m \u001b[0mstacktrace\u001b[0m\u001b[1;33m)\u001b[0m\u001b[1;33m\u001b[0m\u001b[0m\n\u001b[0m\u001b[0;32m    243\u001b[0m \u001b[1;33m\u001b[0m\u001b[0m\n\u001b[0;32m    244\u001b[0m     \u001b[1;32mdef\u001b[0m \u001b[0m_value_or_default\u001b[0m\u001b[1;33m(\u001b[0m\u001b[0mself\u001b[0m\u001b[1;33m,\u001b[0m \u001b[0mobj\u001b[0m\u001b[1;33m,\u001b[0m \u001b[0mkey\u001b[0m\u001b[1;33m,\u001b[0m \u001b[0mdefault\u001b[0m\u001b[1;33m)\u001b[0m\u001b[1;33m:\u001b[0m\u001b[1;33m\u001b[0m\u001b[0m\n",
      "\u001b[1;31mStaleElementReferenceException\u001b[0m: Message: stale element reference: element is not attached to the page document\n  (Session info: chrome=81.0.4044.138)\n"
     ]
    }
   ],
   "source": [
    "elementID =  browser.find_element_by_xpath(\"//button[@class ='btn__primary--large from__button--floating']\")\n",
    "\n",
    "elementID\n",
    "element = WebDriverWait(browser, 30).until(\n",
    "        #EC.element_located_selection_state_to_be((By.CLASS_NAME , 'btn__primary--large from__button--floating' , True))\n",
    "        EC.element_selection_state_to_be(elementID,is_selected=True))\n",
    " \n",
    "print('done')\n",
    "#element.click()\n",
    "\n",
    "    "
   ]
  },
  {
   "cell_type": "code",
   "execution_count": 7,
   "metadata": {},
   "outputs": [],
   "source": [
    "elementID.submit()"
   ]
  },
  {
   "cell_type": "code",
   "execution_count": 66,
   "metadata": {},
   "outputs": [],
   "source": [
    "titlefilter = '&title=Recruiter'\n",
    "page = '&page={}'\n",
    "searchpage = 'https://www.linkedin.com/search/results/people/?origin=FACETED_SEARCH'"
   ]
  },
  {
   "cell_type": "code",
   "execution_count": 99,
   "metadata": {},
   "outputs": [],
   "source": [
    "#myprofileid = '/in/huyle-harry/'\n",
    "#url = 'https://www.linkedin.com' + myprofileid\n",
    "#browser.get(url)\n",
    "\n",
    "# url = searchpage + page.format(2)+ titlefilter\n",
    "# print(url)\n",
    "# browser.get(url)"
   ]
  },
  {
   "cell_type": "code",
   "execution_count": 105,
   "metadata": {},
   "outputs": [],
   "source": [
    "visitedProfiles = {}\n",
    "profilesQueued = {}\n"
   ]
  },
  {
   "cell_type": "code",
   "execution_count": 106,
   "metadata": {},
   "outputs": [],
   "source": [
    "# get user information from  search result page\n",
    "def getprofileID(soup, profilesQueued):\n",
    "    profileID = {}\n",
    "    names =[]\n",
    "    subjectLines =[]\n",
    "    pav = soup.find('ul', {'class':\"search-results__list list-style-none\" })\n",
    "    all_links = pav.findAll('div', {'class': 'search-result__info pt3 pb4 ph0'})\n",
    "\n",
    "    all_name_tags = pav.findAll('span', {'class': 'name actor-name'})\n",
    "\n",
    "    #all_subjectline = pav.findAll('p', {'class': 'subline-level-1 t-14 t-black t-normal search-result__truncate'})\n",
    "\n",
    "    userids = [ link.find('a',{'class': 'search-result__result-link ember-view'}).get('href') for link in all_links if link.find('a',{'class': 'search-result__result-link ember-view'}) != None  ]\n",
    "\n",
    "    names = [name_tag.text for name_tag in all_name_tags]\n",
    "\n",
    "    print(userids)\n",
    "    print(names)\n",
    "\n",
    "    for i in range(len(userids)):\n",
    "        if((userids[i] not in profilesQueued.keys()) and (userids[i] not in visitedProfiles.keys())):\n",
    "            profileID[str(userids[i])] = str(names[i])\n",
    "    return profileID"
   ]
  },
  {
   "cell_type": "code",
   "execution_count": null,
   "metadata": {},
   "outputs": [],
   "source": [
    "## Start "
   ]
  },
  {
   "cell_type": "code",
   "execution_count": 173,
   "metadata": {},
   "outputs": [],
   "source": [
    "#send connection with message:\n",
    "\n",
    "\n",
    "def sendConnectionRequest(profilesQueued, tempMessage):\n",
    "    while profilesQueued:\n",
    "#       try:\n",
    "        nameregex = re.compile(r'\\b([A-Z]{1}[a-z]+)')\n",
    "        visitingProfile= profilesQueued.popitem()\n",
    "        visitedProfiles[visitingProfile[0]]= visitingProfile[1]\n",
    "        fulllink = 'https://www.linkedin.com' + visitingProfile[0]\n",
    "\n",
    "        browser.get(fulllink)\n",
    "        first_name= nameregex.search(visitingProfile[1])[0]\n",
    "        customMessage = tempMessage.format(first_name)\n",
    "         # path to open invitation box\n",
    "        \n",
    "        try: # try to find the connect button outside dropdown\n",
    "            browser.find_element_by_xpath(\"//button[@class='pv-s-profile-actions pv-s-profile-actions--connect ml2 artdeco-button artdeco-button--2 artdeco-button--primary ember-view']\").click()\n",
    "        except  Exception as e: # if broser can not see the connect button out site the dropdown\n",
    "            #e = sys.exc_info()[0]\n",
    "            print( \"<p>Error: %s</p>\" % e )\n",
    "            browser.find_element_by_xpath(\"//button[@class='ml2 pv-s-profile-actions__overflow-toggle artdeco-button artdeco-button--muted artdeco-button--2 artdeco-button--secondary artdeco-dropdown__trigger artdeco-dropdown__trigger--placement-bottom ember-view']\").click()\n",
    "            browser.find_element_by_xpath(\"//div[@class='pv-s-profile-actions pv-s-profile-actions--connect pv-s-profile-actions__overflow-button full-width text-align-left artdeco-dropdown__item artdeco-dropdown__item--is-dropdown ember-view']\").click()\n",
    "        browser.find_element_by_xpath(\"//button[@class ='mr1 artdeco-button artdeco-button--muted artdeco-button--3 artdeco-button--secondary ember-view']\").click()\n",
    "  \n",
    "        messagebox = browser.find_element_by_xpath(\"//textarea[@class='send-invite__custom-message mb3 ember-text-area ember-view']\")\n",
    "        messagebox.send_keys(customMessage)\n",
    "\n",
    "         #browser.find_element_by_xpath(\"//button[@class='ml1 artdeco-button artdeco-button--3 artdeco-button--primary ember-view']\").click()\n",
    "\n",
    "         ## add userid to log file\n",
    "        with open('visitedProfile.txt', 'a') as visitedProfileFile:\n",
    "            visitedProfileFile.write(f'{str(visitingProfile[0])} - {visitingProfile[1]}\\n')\n",
    "        visitedProfileFile.close()\n",
    "        \n",
    "        with open(f'profilesQueued{today}.txt', 'a') as visitedProfileFile:\n",
    "            visitedProfileFile.write(str(profilesQueued)+'\\n')\n",
    "        visitedProfileFile.close()\n",
    "         # pause\n",
    "        time.sleep(random.uniform(5,15)) \n",
    "    \n",
    "    print(f'Visited Profiles: {len(visitedProfiles)}\\n')\n",
    "    \n",
    "        #except:\n",
    "            #print('error')\n",
    "    \n",
    "    "
   ]
  },
  {
   "cell_type": "code",
   "execution_count": 109,
   "metadata": {
    "scrolled": true
   },
   "outputs": [
    {
     "name": "stdout",
     "output_type": "stream",
     "text": [
      "<p>Error: Message: no such element: Unable to locate element: {\"method\":\"xpath\",\"selector\":\"//button[@class='pv-s-profile-actions pv-s-profile-actions--connect ml2 artdeco-button artdeco-button--2 artdeco-button--primary ember-view']\"}\n",
      "  (Session info: chrome=81.0.4044.138)\n",
      "</p>\n"
     ]
    }
   ],
   "source": [
    "sendConnectionRequest(profilesQueued)"
   ]
  },
  {
   "cell_type": "code",
   "execution_count": 101,
   "metadata": {
    "scrolled": false
   },
   "outputs": [
    {
     "name": "stdout",
     "output_type": "stream",
     "text": [
      "<p>Error: Message: no such element: Unable to locate element: {\"method\":\"xpath\",\"selector\":\"//button[@class='pv-s-profile-actions pv-s-profile-actions--connect ml2 artdeco-button artdeco-button--2 artdeco-button--primary ember-view']\"}\n",
      "  (Session info: chrome=81.0.4044.138)\n",
      "</p>\n"
     ]
    }
   ],
   "source": [
    "try:\n",
    "    browser.find_element_by_xpath(\"//button[@class='pv-s-profile-actions pv-s-profile-actions--connect ml2 artdeco-button artdeco-button--2 artdeco-button--primary ember-view']\").click()\n",
    "except  Exception as e:\n",
    "    #e = sys.exc_info()[0]\n",
    "    print( \"<p>Error: %s</p>\" % e )\n",
    "    browser.find_element_by_xpath(\"//button[@class='ml2 pv-s-profile-actions__overflow-toggle artdeco-button artdeco-button--muted artdeco-button--2 artdeco-button--secondary artdeco-dropdown__trigger artdeco-dropdown__trigger--placement-bottom ember-view']\").click()\n",
    "    browser.find_element_by_xpath(\"//div[@class='pv-s-profile-actions pv-s-profile-actions--connect pv-s-profile-actions__overflow-button full-width text-align-left artdeco-dropdown__item artdeco-dropdown__item--is-dropdown ember-view']\").click()\n",
    "browser.find_element_by_xpath(\"//button[@class ='mr1 artdeco-button artdeco-button--muted artdeco-button--3 artdeco-button--secondary ember-view']\").click()\n"
   ]
  },
  {
   "cell_type": "code",
   "execution_count": null,
   "metadata": {},
   "outputs": [],
   "source": [
    "\n",
    "\n",
    "#         if(len(profilesQueued)>10000):\n",
    "#             with open('profilesQueued.txt', 'a') as visitedProfileFile:\n",
    "#                 visitedProfileFile.write(f'{str(visitingProfile[0])} - {visitingProfile[1]}\\n')\n",
    "#             visitedProfileFile.close()\n",
    "#             print('10,000 Done')\n",
    "#             break;"
   ]
  },
  {
   "cell_type": "code",
   "execution_count": 170,
   "metadata": {},
   "outputs": [],
   "source": [
    "visitedProfiles = {}\n",
    "profilesQueued = {}\n",
    "def gatherProfileInfo(profilesQueued, \n",
    "                      titlecondition,\n",
    "                      frompage, topage):\n",
    "    today = date.today()\n",
    "    titlefilter = f'&title={titlecondition}'\n",
    "    page = '&page={}'\n",
    "    searchpage = 'https://www.linkedin.com/search/results/people/?origin=FACETED_SEARCH'\n",
    "    for i in range(frompage,topage):\n",
    "        url = searchpage + page.format(i)+ titlefilter\n",
    "        print(url)\n",
    "        browser.get(url)\n",
    "        profilesQueued2 = getprofileID(BeautifulSoup(browser.page_source), profilesQueued)\n",
    "        profilesQueued = {**profilesQueued, **profilesQueued2}\n",
    "    return profilesQueued"
   ]
  },
  {
   "cell_type": "code",
   "execution_count": 123,
   "metadata": {
    "scrolled": true
   },
   "outputs": [
    {
     "name": "stdout",
     "output_type": "stream",
     "text": [
      "https://www.linkedin.com/search/results/people/?origin=FACETED_SEARCH&page=1&title=Recruiter\n",
      "[]\n",
      "[]\n",
      "https://www.linkedin.com/search/results/people/?origin=FACETED_SEARCH&page=2&title=Recruiter\n",
      "['/in/erin-odell-a9a38993/', '/in/maripryce/']\n",
      "['Erin Odell', 'Mari Pryce']\n",
      "https://www.linkedin.com/search/results/people/?origin=FACETED_SEARCH&page=3&title=Recruiter\n",
      "['/in/brie-moses-451753122/', '/in/gosainvikas/']\n",
      "['Brie Moses', 'Vikas Gosain']\n",
      "https://www.linkedin.com/search/results/people/?origin=FACETED_SEARCH&page=4&title=Recruiter\n",
      "['/in/chardaeross/', '/in/perrybrittany/', '/in/justinsmith28/', '/in/jose-diaz-04270243/']\n",
      "['CharDae Ross', 'Brittany Perry', 'Justin Smith', 'Jose Diaz']\n"
     ]
    }
   ],
   "source": [
    "profilesQueued = gatherProfileInfo(profilesQueued)"
   ]
  },
  {
   "cell_type": "code",
   "execution_count": 131,
   "metadata": {
    "scrolled": true
   },
   "outputs": [
    {
     "data": {
      "text/plain": [
       "{'/in/erin-odell-a9a38993/': 'Erin Odell',\n",
       " '/in/maripryce/': 'Mari Pryce',\n",
       " '/in/brie-moses-451753122/': 'Brie Moses',\n",
       " '/in/gosainvikas/': 'Vikas Gosain',\n",
       " '/in/chardaeross/': 'CharDae Ross',\n",
       " '/in/perrybrittany/': 'Brittany Perry',\n",
       " '/in/justinsmith28/': 'Justin Smith',\n",
       " '/in/jose-diaz-04270243/': 'Jose Diaz'}"
      ]
     },
     "execution_count": 131,
     "metadata": {},
     "output_type": "execute_result"
    }
   ],
   "source": [
    "profilesQueued"
   ]
  },
  {
   "cell_type": "code",
   "execution_count": 171,
   "metadata": {},
   "outputs": [],
   "source": [
    "def main():\n",
    "    visitedProfiles = {}\n",
    "    profilesQueued = {}\n",
    "    profilesQueued = gatherProfileInfo(profilesQueued,'University Recruiter',\n",
    "                                       5,10)\n",
    "    print(profilesQueued)\n",
    "    customMessage=\"\"\"Hello {},\n",
    "I am a new grad from Seattle University with an MS degree in Business Analytics. \\\n",
    "I'm exploring opportunities in data analytics fields and I think you might be interested in my background. \\\n",
    "I hope you'll consider connecting with me.\n",
    "Thanks,\"\"\"\n",
    "    sendConnectionRequest(profilesQueued,customMessage)\n",
    "    browser.get('https://www.linkedin.com/login')\n",
    "    "
   ]
  },
  {
   "cell_type": "code",
   "execution_count": 172,
   "metadata": {},
   "outputs": [
    {
     "name": "stdout",
     "output_type": "stream",
     "text": [
      "https://www.linkedin.com/search/results/people/?origin=FACETED_SEARCH&page=5&title=University Recruiter\n",
      "[]\n",
      "[]\n",
      "https://www.linkedin.com/search/results/people/?origin=FACETED_SEARCH&page=6&title=University Recruiter\n",
      "['/in/jen-lindquist/', '/in/andreea-patruta-49b05a7/']\n",
      "['Jennifer Lindquist', 'Andreea Patruta']\n",
      "https://www.linkedin.com/search/results/people/?origin=FACETED_SEARCH&page=7&title=University Recruiter\n",
      "['/in/erin-johnson-76309120/']\n",
      "['Erin Johnson']\n",
      "https://www.linkedin.com/search/results/people/?origin=FACETED_SEARCH&page=8&title=University Recruiter\n",
      "['/in/jewelrose/', '/in/shreya-shah-b01196125/']\n",
      "['Jewel Rose', 'Shreya Shah']\n",
      "https://www.linkedin.com/search/results/people/?origin=FACETED_SEARCH&page=9&title=University Recruiter\n",
      "['/in/amyhassan/']\n",
      "['Amy Hassan']\n",
      "{'/in/jen-lindquist/': 'Jennifer Lindquist', '/in/andreea-patruta-49b05a7/': 'Andreea Patruta', '/in/erin-johnson-76309120/': 'Erin Johnson', '/in/jewelrose/': 'Jewel Rose', '/in/shreya-shah-b01196125/': 'Shreya Shah', '/in/amyhassan/': 'Amy Hassan'}\n",
      "<p>Error: Message: no such element: Unable to locate element: {\"method\":\"xpath\",\"selector\":\"//button[@class='pv-s-profile-actions pv-s-profile-actions--connect ml2 artdeco-button artdeco-button--2 artdeco-button--primary ember-view']\"}\n",
      "  (Session info: chrome=81.0.4044.138)\n",
      "</p>\n",
      "<p>Error: Message: no such element: Unable to locate element: {\"method\":\"xpath\",\"selector\":\"//button[@class='pv-s-profile-actions pv-s-profile-actions--connect ml2 artdeco-button artdeco-button--2 artdeco-button--primary ember-view']\"}\n",
      "  (Session info: chrome=81.0.4044.138)\n",
      "</p>\n",
      "<p>Error: Message: no such element: Unable to locate element: {\"method\":\"xpath\",\"selector\":\"//button[@class='pv-s-profile-actions pv-s-profile-actions--connect ml2 artdeco-button artdeco-button--2 artdeco-button--primary ember-view']\"}\n",
      "  (Session info: chrome=81.0.4044.138)\n",
      "</p>\n",
      "<p>Error: Message: no such element: Unable to locate element: {\"method\":\"xpath\",\"selector\":\"//button[@class='pv-s-profile-actions pv-s-profile-actions--connect ml2 artdeco-button artdeco-button--2 artdeco-button--primary ember-view']\"}\n",
      "  (Session info: chrome=81.0.4044.138)\n",
      "</p>\n",
      "<p>Error: Message: no such element: Unable to locate element: {\"method\":\"xpath\",\"selector\":\"//button[@class='pv-s-profile-actions pv-s-profile-actions--connect ml2 artdeco-button artdeco-button--2 artdeco-button--primary ember-view']\"}\n",
      "  (Session info: chrome=81.0.4044.138)\n",
      "</p>\n",
      "<p>Error: Message: no such element: Unable to locate element: {\"method\":\"xpath\",\"selector\":\"//button[@class='pv-s-profile-actions pv-s-profile-actions--connect ml2 artdeco-button artdeco-button--2 artdeco-button--primary ember-view']\"}\n",
      "  (Session info: chrome=81.0.4044.138)\n",
      "</p>\n",
      "Visited Profiles: 6/n\n"
     ]
    }
   ],
   "source": [
    "main()"
   ]
  }
 ],
 "metadata": {
  "kernelspec": {
   "display_name": "Python 3",
   "language": "python",
   "name": "python3"
  },
  "language_info": {
   "codemirror_mode": {
    "name": "ipython",
    "version": 3
   },
   "file_extension": ".py",
   "mimetype": "text/x-python",
   "name": "python",
   "nbconvert_exporter": "python",
   "pygments_lexer": "ipython3",
   "version": "3.6.5"
  }
 },
 "nbformat": 4,
 "nbformat_minor": 4
}
